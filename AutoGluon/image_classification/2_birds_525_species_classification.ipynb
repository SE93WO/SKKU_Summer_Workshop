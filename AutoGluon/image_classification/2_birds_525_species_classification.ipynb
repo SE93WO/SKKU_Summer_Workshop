{
 "cells": [
  {
   "cell_type": "code",
   "execution_count": null,
   "id": "a3075857-c19e-4876-9446-75ad9e3202bd",
   "metadata": {},
   "outputs": [],
   "source": [
    "import pandas as pd \n",
    "\n",
    "train_data_path = pd.read_csv('./birds_525_species/train.csv')\n",
    "val_data_path = pd.read_csv('./birds_525_species/valid.csv')\n",
    "test_data_path = pd.read_csv('./birds_525_species/test.csv')\n",
    "\n",
    "train_data_path = train_data_path.drop(['labels', 'data set', 'scientific name'], axis=1)\n",
    "val_data_path = val_data_path.drop(['labels', 'data set', 'scientific name'], axis=1)\n",
    "test_data_path = test_data_path.drop(['labels', 'data set', 'scientific name'], axis=1)"
   ]
  },
  {
   "cell_type": "code",
   "execution_count": null,
   "id": "4ece2e24-2bba-4ebd-888a-3ae8af797e46",
   "metadata": {},
   "outputs": [],
   "source": [
    "from autogluon.multimodal.utils.misc import path_expander\n",
    "\n",
    "PATH_COL = 'filepaths'\n",
    "\n",
    "train_data_path[PATH_COL] = train_data_path[PATH_COL].apply(lambda ele: path_expander(ele, base_folder='./birds_525_species/'))\n",
    "val_data_path[PATH_COL] = val_data_path[PATH_COL].apply(lambda ele: path_expander(ele, base_folder='./birds_525_species/'))\n",
    "test_data_path[PATH_COL] = test_data_path[PATH_COL].apply(lambda ele: path_expander(ele, base_folder='./birds_525_species/'))\n",
    "print(test_data_path.head())"
   ]
  },
  {
   "cell_type": "code",
   "execution_count": null,
   "id": "326bce0e-55b7-473e-b3f6-f773b9ddfc7c",
   "metadata": {},
   "outputs": [],
   "source": [
    "from autogluon.multimodal import MultiModalPredictor\n",
    "\n",
    "predictor = MultiModalPredictor(label='class_id', problem_type='multiclass')\n",
    "predictor.fit(train_data=train_data_path,\n",
    "              tuning_data=val_data_path,\n",
    "              hyperparameters={\"env.batch_size\": 128},\n",
    "             )"
   ]
  }
 ],
 "metadata": {
  "kernelspec": {
   "display_name": "Python 3 (ipykernel)",
   "language": "python",
   "name": "python3"
  },
  "language_info": {
   "codemirror_mode": {
    "name": "ipython",
    "version": 3
   },
   "file_extension": ".py",
   "mimetype": "text/x-python",
   "name": "python",
   "nbconvert_exporter": "python",
   "pygments_lexer": "ipython3",
   "version": "3.11.7"
  }
 },
 "nbformat": 4,
 "nbformat_minor": 5
}
