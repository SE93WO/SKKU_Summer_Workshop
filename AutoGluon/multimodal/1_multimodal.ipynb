{
 "cells": [
  {
   "cell_type": "markdown",
   "id": "962e80bd-96f7-4a7d-89e5-ed1dcbab4f60",
   "metadata": {},
   "source": [
    "# AutoMM for Image + Text + Tabula\r\n",
    "AutoMM is a deep learning \"model zoo\" of model zoos. It can automatically build deep learning models that are suitable for multimodal datasets. You will only need to convert the data into the multimodal dataframe format \n",
    "and AutoMM can predict the values of one column conditioned on the features from the other columns including images, text, and tabular data.\n"
   ]
  },
  {
   "cell_type": "code",
   "execution_count": null,
   "id": "c76bccd9-a3b2-495c-b0ca-3d56268c12f3",
   "metadata": {},
   "outputs": [],
   "source": [
    "import os\n",
    "import numpy as np\n",
    "import warnings\n",
    "warnings.filterwarnings('ignore')\n",
    "np.random.seed(2024)"
   ]
  },
  {
   "cell_type": "markdown",
   "id": "3d804d50-4874-4fe7-aaae-468a9419149a",
   "metadata": {},
   "source": [
    "## Dataset \n",
    "\n",
    "For demonstration, we use a simplified and subsampled version of PetFinder dataset. The task is to predict the animals' adoption rates based on their adoption profile information. In this simplified version, the adoption speed is grouped into two categories: 0 (slow) and 1 (fast).t."
   ]
  },
  {
   "cell_type": "code",
   "execution_count": null,
   "id": "0b8e7fdc-9cc2-4896-980f-91f27126744a",
   "metadata": {},
   "outputs": [],
   "source": [
    "import pandas as pd\n",
    "dataset_path =  './petfinder'\n",
    "train_data = pd.read_csv(f'{dataset_path}/train.csv', index_col=0)\n",
    "test_data = pd.read_csv(f'{dataset_path}/test.csv', index_col=0)\n",
    "label_col = 'AdoptionSpeed'"
   ]
  },
  {
   "cell_type": "markdown",
   "id": "4ac14d0c-9254-4281-a747-c379c7538d74",
   "metadata": {},
   "source": [
    "We need to expand the image paths to load them in training."
   ]
  },
  {
   "cell_type": "code",
   "execution_count": null,
   "id": "04db9385-c8df-4478-8c90-5fab332d7541",
   "metadata": {},
   "outputs": [],
   "source": [
    "image_col = 'Images'\n",
    "train_data[image_col] = train_data[image_col].apply(lambda ele: ele.split(';')[0]) # Use the first image for a quick tutorial\n",
    "test_data[image_col] = test_data[image_col].apply(lambda ele: ele.split(';')[0])\n",
    "\n",
    "\n",
    "def path_expander(path, base_folder):\n",
    "    path_l = path.split(';')\n",
    "    return ';'.join([os.path.abspath(os.path.join(base_folder, path)) for path in path_l])\n",
    "\n",
    "train_data[image_col] = train_data[image_col].apply(lambda ele: path_expander(ele, base_folder=dataset_path))\n",
    "test_data[image_col] = test_data[image_col].apply(lambda ele: path_expander(ele, base_folder=dataset_path))\n",
    "\n",
    "train_data[image_col].iloc[0]"
   ]
  },
  {
   "cell_type": "markdown",
   "id": "1da16940-6fa0-4447-bd91-3b5e185ff95f",
   "metadata": {},
   "source": [
    "Each animal's adoption profile includes pictures, a text description, and various tabular features such as age, breed, name, color, and more. Let's look at an example row of data and display the text description and a picture."
   ]
  },
  {
   "cell_type": "code",
   "execution_count": null,
   "id": "34438379-b421-4145-ac58-bc0c2066b753",
   "metadata": {},
   "outputs": [],
   "source": [
    "example_row = train_data.iloc[0]\n",
    "\n",
    "example_row"
   ]
  },
  {
   "cell_type": "code",
   "execution_count": null,
   "id": "7a1ad218-1edb-4fd9-abfa-df873bb9948f",
   "metadata": {},
   "outputs": [],
   "source": [
    "example_row['Description']"
   ]
  },
  {
   "cell_type": "code",
   "execution_count": null,
   "id": "761fea08-12d2-4a79-8247-e8b452f135dd",
   "metadata": {},
   "outputs": [],
   "source": [
    "example_image = example_row[image_col]\n",
    "\n",
    "from IPython.display import Image, display\n",
    "pil_img = Image(filename=example_image)\n",
    "display(pil_img)"
   ]
  },
  {
   "cell_type": "markdown",
   "id": "f8ef0366-8d77-41b0-b751-8eaf7f4ee37c",
   "metadata": {},
   "source": [
    "## Training\n",
    "\r\n",
    "Now let's fit the predictor with the training data\n",
    "\n",
    "Under the hood, AutoMM automatically infers the problem type (classification or regression), detects the data modalities, selects the related models from the multimodal model pools, and trains the selected models. If multiple backbones are available, AutoMM appends a late-fusion model (MLP or transformer) on top of them.."
   ]
  },
  {
   "cell_type": "code",
   "execution_count": null,
   "id": "9b09b7ac-d6d9-4d56-9980-e3689fdf8be5",
   "metadata": {},
   "outputs": [],
   "source": [
    "from autogluon.multimodal import MultiModalPredictor\n",
    "predictor = MultiModalPredictor(label=label_col)\n",
    "predictor.fit(\n",
    "    train_data=train_data,\n",
    ")"
   ]
  },
  {
   "cell_type": "markdown",
   "id": "ef309b8a-156b-4932-869b-2abbd77916ec",
   "metadata": {},
   "source": [
    "\n",
    "\r\n",
    "## Evaluation\r\n",
    "Then we can evaluate the predictor on the test data."
   ]
  },
  {
   "cell_type": "code",
   "execution_count": null,
   "id": "818e1860-0c50-49d4-a58a-6efdd50594a4",
   "metadata": {},
   "outputs": [],
   "source": [
    "scores = predictor.evaluate(test_data, metrics=[\"roc_auc\"])\n",
    "scores"
   ]
  },
  {
   "cell_type": "markdown",
   "id": "25be6e01-5df9-4e04-b6eb-ecf6f43714dc",
   "metadata": {},
   "source": [
    "## Prediction\r\n",
    "Given a multimodal dataframe without the label column, we can predict the labels."
   ]
  },
  {
   "cell_type": "code",
   "execution_count": null,
   "id": "7041c8c9-f52d-4089-be66-a41fc8b41903",
   "metadata": {},
   "outputs": [],
   "source": [
    "predictions = predictor.predict(test_data.drop(columns=label_col))\n",
    "predictions[:5]"
   ]
  },
  {
   "cell_type": "markdown",
   "id": "090b2a46-1853-43a2-9fc6-966bdb11999c",
   "metadata": {},
   "source": [
    "For classification tasks, we can get the probabilities of all classes."
   ]
  },
  {
   "cell_type": "code",
   "execution_count": null,
   "id": "7adf35e8-1064-4054-9b60-efe628591892",
   "metadata": {},
   "outputs": [],
   "source": [
    "probas = predictor.predict_proba(test_data.drop(columns=label_col))\n",
    "probas[:5]"
   ]
  },
  {
   "cell_type": "code",
   "execution_count": null,
   "id": "3a151991-31a4-4902-828a-b2de30c724ca",
   "metadata": {},
   "outputs": [],
   "source": []
  }
 ],
 "metadata": {
  "kernelspec": {
   "display_name": "Python 3 (ipykernel)",
   "language": "python",
   "name": "python3"
  },
  "language_info": {
   "codemirror_mode": {
    "name": "ipython",
    "version": 3
   },
   "file_extension": ".py",
   "mimetype": "text/x-python",
   "name": "python",
   "nbconvert_exporter": "python",
   "pygments_lexer": "ipython3",
   "version": "3.11.7"
  }
 },
 "nbformat": 4,
 "nbformat_minor": 5
}
