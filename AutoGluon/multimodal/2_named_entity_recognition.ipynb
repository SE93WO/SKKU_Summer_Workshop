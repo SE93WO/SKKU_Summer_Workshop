{
 "cells": [
  {
   "cell_type": "code",
   "execution_count": null,
   "id": "c188b30d-6a2f-4955-bb6b-9da2bd1bb873",
   "metadata": {},
   "outputs": [],
   "source": [
    "import pandas as pd\n",
    "import os"
   ]
  },
  {
   "cell_type": "code",
   "execution_count": null,
   "id": "a6da572b-404f-405b-9b72-61d42bc0d427",
   "metadata": {},
   "outputs": [],
   "source": [
    "train_data = pd.read_csv('ner/twitter17_train.csv')\n",
    "test_data = pd.read_csv('ner/twitter17_test.csv')\n",
    "label_col = 'entity_annotations'"
   ]
  },
  {
   "cell_type": "code",
   "execution_count": null,
   "id": "82072f61-56ba-440b-8c06-28dcb2fe1377",
   "metadata": {},
   "outputs": [],
   "source": [
    "train_data.iloc[0]"
   ]
  },
  {
   "cell_type": "code",
   "execution_count": null,
   "id": "15dff1df-92bd-4fcd-aa5f-7c048737e4a8",
   "metadata": {},
   "outputs": [],
   "source": [
    "image_col = 'image'\n",
    "train_data[image_col] = train_data[image_col].apply(lambda ele: ele.split(';')[0]) # Use the first image for a quick tutorial\n",
    "test_data[image_col] = test_data[image_col].apply(lambda ele: ele.split(';')[0])\n",
    "\n",
    "def path_expander(path, base_folder):\n",
    "\tpath_l = path.split(';')\n",
    "\tp = ';'.join([os.path.abspath(base_folder+path) for path in path_l])\n",
    "\treturn p\n",
    "\n",
    "train_data[image_col] = train_data[image_col].apply(lambda ele: path_expander(ele, base_folder='ner'))\n",
    "test_data[image_col] = test_data[image_col].apply(lambda ele: path_expander(ele, base_folder='ner'))\n",
    "\n",
    "train_data[image_col].iloc[0]"
   ]
  },
  {
   "cell_type": "code",
   "execution_count": null,
   "id": "11f27246-9565-4dd3-a792-27329a826559",
   "metadata": {},
   "outputs": [],
   "source": [
    "example_row = train_data[label_col].iloc[0]\n",
    "\n",
    "example_row"
   ]
  },
  {
   "cell_type": "code",
   "execution_count": null,
   "id": "2e419222-57e7-42b2-a44a-f7dc03a09abd",
   "metadata": {},
   "outputs": [],
   "source": [
    "from autogluon.multimodal import MultiModalPredictor\n",
    "\n",
    "label_col = \"entity_annotations\"\n",
    "predictor = MultiModalPredictor(problem_type=\"ner\", label=label_col)\n",
    "predictor.fit(\n",
    "\ttrain_data=train_data,\n",
    "\tcolumn_types={\"text_snippet\":\"text_ner\"},\n",
    ")"
   ]
  },
  {
   "cell_type": "code",
   "execution_count": null,
   "id": "ae24b48c-c9cb-4602-8439-6ff77a8057e4",
   "metadata": {},
   "outputs": [],
   "source": [
    "prediction_input = test_data.drop(columns=label_col).head(1)\n",
    "predictions = predictor.predict(prediction_input)\n",
    "print('Tweet:', prediction_input.text_snippet[0])\n",
    "print('Image path:', prediction_input.image[0])\n",
    "print('Predicted entities:', predictions[0])\n",
    "\n",
    "for entity in predictions[0]:\n",
    "\tprint(f\"Word '{prediction_input.text_snippet[0][entity['start']:entity['end']]}' belongs to group: {entity['entity_group']}\")"
   ]
  },
  {
   "cell_type": "code",
   "execution_count": null,
   "id": "661422b5-ab8a-48b7-a975-caa427808528",
   "metadata": {},
   "outputs": [],
   "source": []
  }
 ],
 "metadata": {
  "kernelspec": {
   "display_name": "cv",
   "language": "python",
   "name": "cv"
  },
  "language_info": {
   "codemirror_mode": {
    "name": "ipython",
    "version": 3
   },
   "file_extension": ".py",
   "mimetype": "text/x-python",
   "name": "python",
   "nbconvert_exporter": "python",
   "pygments_lexer": "ipython3",
   "version": "3.10.14"
  }
 },
 "nbformat": 4,
 "nbformat_minor": 5
}
