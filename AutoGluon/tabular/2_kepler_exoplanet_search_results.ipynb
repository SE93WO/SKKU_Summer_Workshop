{
 "cells": [
  {
   "cell_type": "code",
   "execution_count": null,
   "id": "969da01c-24ce-42f0-8fec-2f31471527da",
   "metadata": {},
   "outputs": [],
   "source": [
    "import pandas as pd \n",
    "from sklearn.model_selection import train_test_split\n",
    "\n",
    "df = pd.read_csv('./kepler_exoplanet_serach_results/data.csv')\n",
    "df_train, df_test = train_test_split(df, test_size=0.3, random_state=2024)"
   ]
  },
  {
   "cell_type": "code",
   "execution_count": null,
   "id": "d5c6d454-f7f2-42bc-83c7-d38f87264086",
   "metadata": {},
   "outputs": [],
   "source": [
    "from autogluon.tabular import TabularPredictor\n",
    "\n",
    "predictor = TabularPredictor(label='').fit(df_train, num_cpus=12, num_gpus=1)"
   ]
  }
 ],
 "metadata": {
  "kernelspec": {
   "display_name": "tabular",
   "language": "python",
   "name": "tabular"
  },
  "language_info": {
   "codemirror_mode": {
    "name": "ipython",
    "version": 3
   },
   "file_extension": ".py",
   "mimetype": "text/x-python",
   "name": "python",
   "nbconvert_exporter": "python",
   "pygments_lexer": "ipython3",
   "version": "3.10.14"
  }
 },
 "nbformat": 4,
 "nbformat_minor": 5
}
