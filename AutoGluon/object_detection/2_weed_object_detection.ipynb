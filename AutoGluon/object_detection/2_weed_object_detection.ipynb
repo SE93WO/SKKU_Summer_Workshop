{
 "cells": [
  {
   "cell_type": "code",
   "execution_count": null,
   "id": "6407b22a-ef7d-4d87-95f3-fd3b49cd830f",
   "metadata": {},
   "outputs": [],
   "source": [
    "from autogluon.multimodal import MultiModalPredictor\n",
    "import os"
   ]
  },
  {
   "cell_type": "code",
   "execution_count": null,
   "id": "9a30761a-2fe9-4ab6-9d84-fc7b5426a8ec",
   "metadata": {},
   "outputs": [],
   "source": [
    "base_path = \"weed/anno\"\n",
    "\n",
    "train_path = os.path.join(base_path, 'train_annotations.json')\n",
    "valid_path = os.path.join(base_path, 'valid_annotations.json')\n",
    "test_path = os.path.join(base_path, 'test_annotations.json')"
   ]
  },
  {
   "cell_type": "code",
   "execution_count": null,
   "id": "37e54683-e978-49b2-ae86-ce4fca5d4555",
   "metadata": {},
   "outputs": [],
   "source": [
    "predictor = MultiModalPredictor(\n",
    "    problem_type=\"object_detection\",\n",
    "    sample_data_path=train_path,\n",
    "    presets='medium_quality'\n",
    ")"
   ]
  },
  {
   "cell_type": "code",
   "execution_count": null,
   "id": "658488de-6537-4794-8e86-69d688b89ebf",
   "metadata": {},
   "outputs": [],
   "source": [
    "predictor.fit(train_path)"
   ]
  }
 ],
 "metadata": {
  "kernelspec": {
   "display_name": "cv",
   "language": "python",
   "name": "cv"
  },
  "language_info": {
   "codemirror_mode": {
    "name": "ipython",
    "version": 3
   },
   "file_extension": ".py",
   "mimetype": "text/x-python",
   "name": "python",
   "nbconvert_exporter": "python",
   "pygments_lexer": "ipython3",
   "version": "3.10.14"
  }
 },
 "nbformat": 4,
 "nbformat_minor": 5
}
