{
 "cells": [
  {
   "cell_type": "code",
   "execution_count": null,
   "id": "6407b22a-ef7d-4d87-95f3-fd3b49cd830f",
   "metadata": {},
   "outputs": [],
   "source": [
    "from autogluon.multimodal import MultiModalPredictor\n",
    "import os"
   ]
  },
  {
   "cell_type": "code",
   "execution_count": null,
   "id": "9a30761a-2fe9-4ab6-9d84-fc7b5426a8ec",
   "metadata": {},
   "outputs": [],
   "source": [
    "base_path = \"skyfusion/anno\"\n",
    "\n",
    "train_path = os.path.join(base_path, 'train_annotations.json')\n",
    "valid_path = os.path.join(base_path, 'valid_annotations.json')\n",
    "test_path = os.path.join(base_path, 'test_annotations.json')"
   ]
  }
 ],
 "metadata": {
  "kernelspec": {
   "display_name": "cv",
   "language": "python",
   "name": "cv"
  },
  "language_info": {
   "codemirror_mode": {
    "name": "ipython",
    "version": 3
   },
   "file_extension": ".py",
   "mimetype": "text/x-python",
   "name": "python",
   "nbconvert_exporter": "python",
   "pygments_lexer": "ipython3",
   "version": "3.10.14"
  }
 },
 "nbformat": 4,
 "nbformat_minor": 5
}
