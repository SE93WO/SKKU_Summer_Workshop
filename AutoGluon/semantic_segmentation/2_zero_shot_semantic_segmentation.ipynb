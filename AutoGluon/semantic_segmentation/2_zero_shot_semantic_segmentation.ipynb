{
 "cells": [
  {
   "cell_type": "code",
   "execution_count": null,
   "id": "4a2ce583-91a8-413f-96d4-1a174e84e42e",
   "metadata": {},
   "outputs": [],
   "source": [
    "from IPython.display import Image, display\n",
    "from autogluon.multimodal import download\n",
    "\n",
    "url = \"https://farm4.staticflickr.com/3445/3262471985_ed886bf61a_z.jpg\"\n",
    "dog_image = download(url)\n",
    "\n",
    "pil_img = Image(filename=dog_image)\n",
    "display(pil_img)"
   ]
  }
 ],
 "metadata": {
  "kernelspec": {
   "display_name": "cv",
   "language": "python",
   "name": "cv"
  },
  "language_info": {
   "codemirror_mode": {
    "name": "ipython",
    "version": 3
   },
   "file_extension": ".py",
   "mimetype": "text/x-python",
   "name": "python",
   "nbconvert_exporter": "python",
   "pygments_lexer": "ipython3",
   "version": "3.10.14"
  }
 },
 "nbformat": 4,
 "nbformat_minor": 5
}
