{
 "cells": [
  {
   "cell_type": "markdown",
   "id": "edd289ea-c681-4747-9fd9-f7730c72c3f2",
   "metadata": {},
   "source": [
    "# AutoMM for Semantic Segmentation\n",
    "\n",
    "Semantic Segmentation is a computer vision task where the objective is to create a detailed pixel-wise segmentation map of an image, assigning each pixel to a specific class or object. This technology is crucial in various applications, such as in autonomous vehicles to identify vehicles, pedestrians, traffic signs, pavement, and other road features.\r\n",
    "\r\n",
    "The Segment Anything Model (SAM) is a foundational model pretrained on a vast dataset with 1 billion masks and 11 million images. While SAM performs exceptionally well on generic scenes, it encounters challenges when applied to specialized domains like remote sensing, medical imagery, agriculture, and manufacturing. Fortunately, AutoMM comes to the rescue by facilitating the fine-tuning of SAM on domain-specific data."
   ]
  },
  {
   "cell_type": "code",
   "execution_count": null,
   "id": "310ea417-376c-4888-b9fe-b0af0d5d4710",
   "metadata": {},
   "outputs": [],
   "source": [
    "from autogluon.multimodal import MultiModalPredictor\n",
    "import pandas as pd\n",
    "import os"
   ]
  },
  {
   "cell_type": "markdown",
   "id": "71701ee4-98dc-4293-bd16-8cc7ef7f2359",
   "metadata": {},
   "source": [
    "## Prepare Data\n",
    "\n",
    "For demonstration purposes, we use the Leaf Disease Segmentation from Kaggle. This dataset is a good example for automating disease detection in plants, especially for speeding up the plant pathology process. Segmenting specific regions on leaves or plants can be quite challenging, particularly when dealing with smaller diseased areas or various types of diseases."
   ]
  },
  {
   "cell_type": "code",
   "execution_count": null,
   "id": "5ce6dbe9-e4a4-4301-9099-bd5c8ece8408",
   "metadata": {},
   "outputs": [],
   "source": [
    "train_data = pd.read_csv('leaf_disease_segmentation/train.csv', index_col=0)\n",
    "val_data = pd.read_csv('leaf_disease_segmentation/val.csv', index_col=0)\n",
    "test_data = pd.read_csv('leaf_disease_segmentation/test.csv', index_col=0)\n",
    "image_col = 'image'\n",
    "label_col = 'label'"
   ]
  },
  {
   "cell_type": "code",
   "execution_count": null,
   "id": "aeb2dadc-3e68-4352-aa64-7584da18f228",
   "metadata": {},
   "outputs": [],
   "source": [
    "def path_expander(path, base_folder):\n",
    "    path_l = path.split(';')\n",
    "    return ';'.join([os.path.abspath(os.path.join(base_folder, path)) for path in path_l])\n",
    "\n",
    "for per_col in [image_col, label_col]:\n",
    "    train_data[per_col] = train_data[per_col].apply(lambda ele: path_expander(ele, base_folder='leaf_disease_segmentation'))\n",
    "    val_data[per_col] = val_data[per_col].apply(lambda ele: path_expander(ele, base_folder='leaf_disease_segmentation'))\n",
    "    test_data[per_col] = test_data[per_col].apply(lambda ele: path_expander(ele, base_folder='leaf_disease_segmentation'))\n",
    "    \n",
    "\n",
    "print(train_data[image_col].iloc[0])\n",
    "print(train_data[label_col].iloc[0])"
   ]
  },
  {
   "cell_type": "code",
   "execution_count": null,
   "id": "c02e8d2f-ac00-45ad-881c-2482d2b7de87",
   "metadata": {},
   "outputs": [],
   "source": [
    "from autogluon.multimodal import MultiModalPredictor\n",
    "predictor_zero_shot = MultiModalPredictor(\n",
    "    problem_type=\"semantic_segmentation\", \n",
    "    label=label_col,\n",
    "     hyperparameters={\n",
    "            \"model.sam.checkpoint_name\": \"facebook/sam-vit-base\",\n",
    "        },\n",
    "    num_classes=1, # forground-background segmentation\n",
    ")"
   ]
  },
  {
   "cell_type": "code",
   "execution_count": null,
   "id": "32ef9446-bd56-4709-a0e8-4a920e59cfd2",
   "metadata": {},
   "outputs": [],
   "source": [
    "pred_zero_shot = predictor_zero_shot.predict({'image': [test_data.iloc[0]['image']]})"
   ]
  },
  {
   "cell_type": "code",
   "execution_count": null,
   "id": "6d57719f-e786-4c2e-8d88-1fd645fe00df",
   "metadata": {},
   "outputs": [],
   "source": [
    "from autogluon.multimodal.utils import SemanticSegmentationVisualizer\n",
    "visualizer = SemanticSegmentationVisualizer()\n",
    "visualizer.plot_mask(pred_zero_shot)"
   ]
  },
  {
   "cell_type": "markdown",
   "id": "91a7114b-017c-4f57-9c7d-ab49cb55affa",
   "metadata": {},
   "source": [
    "It's worth noting that SAM without prompts outputs a rough leaf mask instead of disease masks due to its lack of context about the domain task. While SAM can perform better with proper click prompts, it might not be an ideal end-to-end solution for some applications that require a standalone model for deployment.\n",
    "\n",
    "You can also conduct a zero-shot evaluation on the test data.  \n",
    "As expected, the test score of the zero-shot SAM is relatively low."
   ]
  },
  {
   "cell_type": "code",
   "execution_count": null,
   "id": "752d7153-b10b-419f-8ed7-ca24fe0eaebb",
   "metadata": {},
   "outputs": [],
   "source": [
    "scores = predictor_zero_shot.evaluate(test_data, metrics=[\"iou\"])\n",
    "print(scores)"
   ]
  },
  {
   "cell_type": "markdown",
   "id": "ff606d4d-5861-4cb9-8100-aaa3892838e6",
   "metadata": {},
   "source": [
    "## Finetune SAM\n",
    "\n",
    "Next, let's explore how to fine-tune SAM for enhanced performance.  \n",
    "Initialize a new predictor and fit it with the training and validation data."
   ]
  },
  {
   "cell_type": "code",
   "execution_count": null,
   "id": "f0820a77-223d-47f5-9125-eff4be2d1bd8",
   "metadata": {},
   "outputs": [],
   "source": [
    "from autogluon.multimodal import MultiModalPredictor\n",
    "\n",
    "predictor = MultiModalPredictor(\n",
    "    problem_type=\"semantic_segmentation\", \n",
    "    label=\"label\",\n",
    "     hyperparameters={\n",
    "            \"model.sam.checkpoint_name\": \"facebook/sam-vit-base\",\n",
    "        },\n",
    ")\n",
    "predictor.fit(\n",
    "    train_data=train_data,\n",
    "    tuning_data=val_data,\n",
    ")"
   ]
  },
  {
   "cell_type": "markdown",
   "id": "719d3712-0194-4ac6-a231-94aac6382862",
   "metadata": {},
   "source": [
    "After fine-tuning, evaluate SAM on the test data."
   ]
  },
  {
   "cell_type": "code",
   "execution_count": null,
   "id": "15be74da-0674-4556-a589-3229adc67627",
   "metadata": {},
   "outputs": [],
   "source": [
    "scores = predictor.evaluate(test_data, metrics=[\"iou\"])\n",
    "print(scores)"
   ]
  },
  {
   "cell_type": "markdown",
   "id": "fe041d1a-f932-45b5-a700-83dc05a8297b",
   "metadata": {},
   "source": [
    "To visualize the impact, let's examine the predicted mask after fine-tuning."
   ]
  },
  {
   "cell_type": "code",
   "execution_count": null,
   "id": "d41e6768-adf0-4d30-ac75-77b0651b578a",
   "metadata": {},
   "outputs": [],
   "source": [
    "pred = predictor.predict({'image': [test_data.iloc[0]['image']]})\n",
    "visualizer.plot_mask(pred)"
   ]
  },
  {
   "cell_type": "code",
   "execution_count": null,
   "id": "884ab977-6015-4f21-afe0-ed448a579201",
   "metadata": {},
   "outputs": [],
   "source": []
  }
 ],
 "metadata": {
  "kernelspec": {
   "display_name": "cv",
   "language": "python",
   "name": "cv"
  },
  "language_info": {
   "codemirror_mode": {
    "name": "ipython",
    "version": 3
   },
   "file_extension": ".py",
   "mimetype": "text/x-python",
   "name": "python",
   "nbconvert_exporter": "python",
   "pygments_lexer": "ipython3",
   "version": "3.10.14"
  }
 },
 "nbformat": 4,
 "nbformat_minor": 5
}
