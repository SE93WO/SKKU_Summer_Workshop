{
 "cells": [
  {
   "cell_type": "code",
   "execution_count": 1,
   "id": "70c2f698-2fa5-4f9c-b5ae-d0f9d9717267",
   "metadata": {},
   "outputs": [],
   "source": [
    "from datasets import load_dataset\n",
    "\n",
    "dataset_train = load_dataset(\"Falah/Alzheimer_MRI\", split='train')\n",
    "dataset_test = load_dataset(\"Falah/Alzheimer_MRI\", split='test')"
   ]
  },
  {
   "cell_type": "code",
   "execution_count": 3,
   "id": "4856875e-6727-4604-9537-48588174fa0b",
   "metadata": {},
   "outputs": [],
   "source": [
    "from transformers import AutoImageProcessor\n",
    "\n",
    "checkpoint = \"apple/mobilevit-small\"\n",
    "image_processor = AutoImageProcessor.from_pretrained(checkpoint)"
   ]
  },
  {
   "cell_type": "code",
   "execution_count": 4,
   "id": "3a1fd091-ac08-4418-8e59-ac64780a6bbe",
   "metadata": {},
   "outputs": [],
   "source": [
    "def transform(example_batch):\n",
    "    inputs = image_processor([x.convert('RGB') for x in example_batch['image']], return_tensors='pt')\n",
    "    inputs['labels'] = example_batch['label']\n",
    "    return inputs\n",
    "\n",
    "transformed_dataset_train = dataset_train.with_transform(transform)\n",
    "transformed_dataset_test = dataset_test.with_transform(transform)"
   ]
  },
  {
   "cell_type": "code",
   "execution_count": 5,
   "id": "c3d10f57-ee3c-42ea-8a8f-c0cf295afdbb",
   "metadata": {},
   "outputs": [],
   "source": [
    "import evaluate\n",
    "import numpy as np\n",
    "\n",
    "accuracy = evaluate.load(\"accuracy\")\n",
    "\n",
    "def compute_metrics(eval_pred):\n",
    "    predictions, labels = eval_pred\n",
    "    predictions = np.argmax(predictions, axis=1)\n",
    "    return accuracy.compute(predictions=predictions, references=labels)"
   ]
  },
  {
   "cell_type": "code",
   "execution_count": 6,
   "id": "c608d4d1-b062-4d2b-9b30-eb99af1627ce",
   "metadata": {},
   "outputs": [
    {
     "name": "stderr",
     "output_type": "stream",
     "text": [
      "Some weights of MobileViTForImageClassification were not initialized from the model checkpoint at apple/mobilevit-small and are newly initialized because the shapes did not match:\n",
      "- classifier.weight: found shape torch.Size([1000, 640]) in the checkpoint and torch.Size([4, 640]) in the model instantiated\n",
      "- classifier.bias: found shape torch.Size([1000]) in the checkpoint and torch.Size([4]) in the model instantiated\n",
      "You should probably TRAIN this model on a down-stream task to be able to use it for predictions and inference.\n",
      "Detected kernel version 5.4.0, which is below the recommended minimum of 5.5.0; this can cause the process to hang. It is recommended to upgrade the kernel to the minimum version or higher.\n"
     ]
    }
   ],
   "source": [
    "from transformers import AutoModelForImageClassification, TrainingArguments, Trainer\n",
    "\n",
    "model = AutoModelForImageClassification.from_pretrained(checkpoint,\n",
    "                                                        num_labels=len(dataset_train.features[\"label\"].names),\n",
    "                                                        ignore_mismatched_sizes=True\n",
    "                                                       )\n",
    "\n",
    "training_args = TrainingArguments(\n",
    "    output_dir=\"model\",\n",
    "    remove_unused_columns=False,\n",
    "    eval_strategy=\"epoch\",\n",
    "    save_strategy=\"epoch\",\n",
    "    learning_rate=5e-5,\n",
    "    per_device_train_batch_size=256,\n",
    "    per_device_eval_batch_size=256,\n",
    "    num_train_epochs=10,\n",
    "    logging_steps=10,\n",
    "    load_best_model_at_end=True,\n",
    "    metric_for_best_model=\"accuracy\",\n",
    ")\n",
    "\n",
    "trainer = Trainer(\n",
    "    model=model,\n",
    "    args=training_args,\n",
    "    train_dataset=transformed_dataset_train,\n",
    "    eval_dataset=transformed_dataset_test,\n",
    "    tokenizer=image_processor,\n",
    "    compute_metrics=compute_metrics,\n",
    ")\n"
   ]
  },
  {
   "cell_type": "code",
   "execution_count": 7,
   "id": "60fb3c2e-1eca-4f7d-b582-bd4c04fad179",
   "metadata": {},
   "outputs": [
    {
     "data": {
      "text/html": [
       "\n",
       "    <div>\n",
       "      \n",
       "      <progress value='200' max='200' style='width:300px; height:20px; vertical-align: middle;'></progress>\n",
       "      [200/200 05:38, Epoch 10/10]\n",
       "    </div>\n",
       "    <table border=\"1\" class=\"dataframe\">\n",
       "  <thead>\n",
       " <tr style=\"text-align: left;\">\n",
       "      <th>Epoch</th>\n",
       "      <th>Training Loss</th>\n",
       "      <th>Validation Loss</th>\n",
       "      <th>Accuracy</th>\n",
       "    </tr>\n",
       "  </thead>\n",
       "  <tbody>\n",
       "    <tr>\n",
       "      <td>1</td>\n",
       "      <td>1.339000</td>\n",
       "      <td>1.397448</td>\n",
       "      <td>0.347656</td>\n",
       "    </tr>\n",
       "    <tr>\n",
       "      <td>2</td>\n",
       "      <td>1.247400</td>\n",
       "      <td>1.261046</td>\n",
       "      <td>0.561719</td>\n",
       "    </tr>\n",
       "    <tr>\n",
       "      <td>3</td>\n",
       "      <td>1.162400</td>\n",
       "      <td>1.134973</td>\n",
       "      <td>0.581250</td>\n",
       "    </tr>\n",
       "    <tr>\n",
       "      <td>4</td>\n",
       "      <td>1.093300</td>\n",
       "      <td>1.102157</td>\n",
       "      <td>0.586719</td>\n",
       "    </tr>\n",
       "    <tr>\n",
       "      <td>5</td>\n",
       "      <td>1.050200</td>\n",
       "      <td>1.063965</td>\n",
       "      <td>0.598437</td>\n",
       "    </tr>\n",
       "    <tr>\n",
       "      <td>6</td>\n",
       "      <td>1.001600</td>\n",
       "      <td>1.035893</td>\n",
       "      <td>0.610156</td>\n",
       "    </tr>\n",
       "    <tr>\n",
       "      <td>7</td>\n",
       "      <td>0.986900</td>\n",
       "      <td>1.025785</td>\n",
       "      <td>0.619531</td>\n",
       "    </tr>\n",
       "    <tr>\n",
       "      <td>8</td>\n",
       "      <td>0.954500</td>\n",
       "      <td>0.989861</td>\n",
       "      <td>0.631250</td>\n",
       "    </tr>\n",
       "    <tr>\n",
       "      <td>9</td>\n",
       "      <td>0.946900</td>\n",
       "      <td>0.986397</td>\n",
       "      <td>0.632031</td>\n",
       "    </tr>\n",
       "    <tr>\n",
       "      <td>10</td>\n",
       "      <td>0.944300</td>\n",
       "      <td>0.980222</td>\n",
       "      <td>0.631250</td>\n",
       "    </tr>\n",
       "  </tbody>\n",
       "</table><p>"
      ],
      "text/plain": [
       "<IPython.core.display.HTML object>"
      ]
     },
     "metadata": {},
     "output_type": "display_data"
    },
    {
     "data": {
      "text/plain": [
       "TrainOutput(global_step=200, training_loss=1.0832837009429932, metrics={'train_runtime': 343.5975, 'train_samples_per_second': 149.012, 'train_steps_per_second': 0.582, 'total_flos': 2.983778473476096e+17, 'train_loss': 1.0832837009429932, 'epoch': 10.0})"
      ]
     },
     "execution_count": 7,
     "metadata": {},
     "output_type": "execute_result"
    }
   ],
   "source": [
    "trainer.train()"
   ]
  },
  {
   "cell_type": "code",
   "execution_count": 43,
   "id": "48e6316d-c091-4067-8e91-558226689c58",
   "metadata": {},
   "outputs": [
    {
     "data": {
      "text/html": [],
      "text/plain": [
       "<IPython.core.display.HTML object>"
      ]
     },
     "metadata": {},
     "output_type": "display_data"
    },
    {
     "name": "stdout",
     "output_type": "stream",
     "text": [
      "{'eval_loss': 0.9863974452018738, 'eval_accuracy': 0.63203125, 'eval_runtime': 4.4379, 'eval_samples_per_second': 288.425, 'eval_steps_per_second': 1.127, 'epoch': 10.0}\n"
     ]
    }
   ],
   "source": [
    "metrics = trainer.evaluate(transformed_dataset_test)\n",
    "outputs = trainer.predict(transformed_dataset_test)\n",
    "print(metrics)"
   ]
  },
  {
   "cell_type": "code",
   "execution_count": 36,
   "id": "ad7b9f7e-c5a3-4cb1-b48b-588a090ddbbd",
   "metadata": {},
   "outputs": [
    {
     "data": {
      "image/jpeg": "[encoded data removed]",
      "image/png": "[encoded data removed]",
      "text/plain": [
       "<PIL.JpegImagePlugin.JpegImageFile image mode=L size=128x128>"
      ]
     },
     "execution_count": 36,
     "metadata": {},
     "output_type": "execute_result"
    }
   ],
   "source": [
    "dataset_test[0]['image']"
   ]
  },
  {
   "cell_type": "code",
   "execution_count": 51,
   "id": "e93bd6a6-4c34-4db5-8a80-c98606cfe1f7",
   "metadata": {},
   "outputs": [
    {
     "data": {
      "text/plain": [
       "array([-0.47102004, -0.32282358,  1.4218521 , -0.8353001 ], dtype=float32)"
      ]
     },
     "execution_count": 51,
     "metadata": {},
     "output_type": "execute_result"
    }
   ],
   "source": [
    "outputs.predictions[0]"
   ]
  },
  {
   "cell_type": "code",
   "execution_count": 53,
   "id": "fdf7c698-d998-4c27-8b3e-e197ad7073a3",
   "metadata": {},
   "outputs": [
    {
     "data": {
      "text/plain": [
       "2"
      ]
     },
     "execution_count": 53,
     "metadata": {},
     "output_type": "execute_result"
    }
   ],
   "source": [
    "outputs.predictions[0].argmax(-1)"
   ]
  }
 ],
 "metadata": {
  "kernelspec": {
   "display_name": "huggingface",
   "language": "python",
   "name": "huggingface"
  },
  "language_info": {
   "codemirror_mode": {
    "name": "ipython",
    "version": 3
   },
   "file_extension": ".py",
   "mimetype": "text/x-python",
   "name": "python",
   "nbconvert_exporter": "python",
   "pygments_lexer": "ipython3",
   "version": "3.10.14"
  }
 },
 "nbformat": 4,
 "nbformat_minor": 5
}
